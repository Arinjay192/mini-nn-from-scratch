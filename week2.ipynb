{
  "metadata": {
    "kernelspec": {
      "name": "python",
      "display_name": "Python (Pyodide)",
      "language": "python"
    },
    "language_info": {
      "codemirror_mode": {
        "name": "python",
        "version": 3
      },
      "file_extension": ".py",
      "mimetype": "text/x-python",
      "name": "python",
      "nbconvert_exporter": "python",
      "pygments_lexer": "ipython3",
      "version": "3.8"
    }
  },
  "nbformat_minor": 4,
  "nbformat": 4,
  "cells": [
    {
      "cell_type": "markdown",
      "source": "# Introduction to Deep Learning\n## Logistic Regression \nLogistic Regression is a fundamental supervised learning algorithm used for binary classification tasks. Despite its name, it's used for classification, not regression. Logistic Regression models the probability that a given input belongs to a particular class.",
      "metadata": {}
    },
    {
      "cell_type": "markdown",
      "source": "### Implementation Steps\n1. Data Pre-processing\n2. Parameter Initialization\n3. Forward Propagation:\n4. Cost Calculation\n5. Backward Propagation\n6. Parameter Update\n7. Model Evaluation",
      "metadata": {}
    },
    {
      "cell_type": "markdown",
      "source": "Let's import libraries we've already learnt and will use",
      "metadata": {}
    },
    {
      "cell_type": "code",
      "source": "import numpy as np\nimport matplotlib.pyplot as plt",
      "metadata": {
        "trusted": true
      },
      "outputs": [
        {
          "name": "stderr",
          "output_type": "stream",
          "text": "Matplotlib is building the font cache; this may take a moment.\n"
        }
      ],
      "execution_count": 1
    },
    {
      "cell_type": "markdown",
      "source": "### 1. Data Pre-Processing\nThe dataset contains information that may be used for diagnosing or predicting the presence of heart disease in individuals. It comprises various clinical and demographic features that are commonly considered in cardiovascular health assessment. Understanding and analyzing these features can aid in developing predictive models or understanding the factors associated with heart disease.  \nThe first 13 fields are \n- Age\n- Sex\n- Chest Pain Type (cp)\n- Resting Blood Pressure (trestbps)\n- Serum Cholesterol Level (chol)\n- Fasting Blood Sugar (fbs)\n- Resting Electrocardiographic Results (restecg)\n- Maximum Heart Rate Achieved (thalach)\n- Exercise-Induced Angina (exang)\n- ST Depression Induced by Exercise Relative to Rest (oldpeak)\n- Slope of the Peak Exercise ST Segment (slope)\n- Number of Major Vessels Colored by Fluoroscopy (ca)\n- Thalassemia (thal)  \n\nAnd the 14th field is 'target' and is either 0 or 1. The \"target\" field refers to the presence of heart disease in the patient. It is integer valued 0 = no disease and 1 = disease.",
      "metadata": {}
    },
    {
      "cell_type": "markdown",
      "source": "First, we import data from the csv file provided",
      "metadata": {}
    },
    {
      "cell_type": "code",
      "source": "dataset_raw = np.genfromtxt(\"heart.csv\", dtype=\"str\", delimiter=\",\")\nprint(dataset_raw.shape)",
      "metadata": {
        "trusted": true
      },
      "outputs": [
        {
          "name": "stdout",
          "output_type": "stream",
          "text": "(1026, 14)\n"
        }
      ],
      "execution_count": 4
    },
    {
      "cell_type": "markdown",
      "source": "This dataset have headers that we don't need for logistic regression model. That is there for us to understand what the values denote  \nWe seperate the headers",
      "metadata": {}
    },
    {
      "cell_type": "code",
      "source": "headers = dataset_raw[0, :]\nprint(headers)",
      "metadata": {
        "trusted": true
      },
      "outputs": [
        {
          "name": "stdout",
          "output_type": "stream",
          "text": "['age' 'sex' 'cp' 'trestbps' 'chol' 'fbs' 'restecg' 'thalach' 'exang'\n 'oldpeak' 'slope' 'ca' 'thal' 'target']\n"
        }
      ],
      "execution_count": 5
    },
    {
      "cell_type": "markdown",
      "source": "And now we get rest of the numerical data and cast them as `float` data type instead of `string`",
      "metadata": {}
    },
    {
      "cell_type": "code",
      "source": "dataset = dataset_raw[1:, :]\ndataset = dataset.astype(float)\nprint(dataset)",
      "metadata": {
        "trusted": true
      },
      "outputs": [
        {
          "name": "stdout",
          "output_type": "stream",
          "text": "[[52.  1.  0. ...  2.  3.  0.]\n [53.  1.  0. ...  0.  3.  0.]\n [70.  1.  0. ...  0.  3.  0.]\n ...\n [47.  1.  0. ...  1.  2.  0.]\n [50.  0.  0. ...  0.  2.  1.]\n [54.  1.  0. ...  1.  3.  0.]]\n"
        }
      ],
      "execution_count": 6
    },
    {
      "cell_type": "markdown",
      "source": "In this dataset, the first 13 columns represent the features, while the 14th column indicates whether the individual has the disease or not based on those features. Here we seperate the dataset into X (feature vector) and Y (output vector).",
      "metadata": {}
    },
    {
      "cell_type": "code",
      "source": "X = dataset[:, :13]\nY = dataset[:, 13]\nprint(X.shape)\nprint(Y.shape)",
      "metadata": {
        "trusted": true
      },
      "outputs": [
        {
          "name": "stdout",
          "output_type": "stream",
          "text": "(1025, 13)\n(1025,)\n"
        }
      ],
      "execution_count": 7
    },
    {
      "cell_type": "markdown",
      "source": "Shape of X here is $(m, n_x)$, but we want it to have $shape = (n_x, m)$",
      "metadata": {}
    },
    {
      "cell_type": "code",
      "source": "X = X.T\nprint(X.shape)\nprint(Y.shape)",
      "metadata": {
        "trusted": true
      },
      "outputs": [
        {
          "name": "stdout",
          "output_type": "stream",
          "text": "(13, 1025)\n(1025,)\n"
        }
      ],
      "execution_count": 8
    },
    {
      "cell_type": "markdown",
      "source": "#### Looks good\nFinally, we have 1025 examples of 13 features and 1 output  \nFrom the notation you have studied till now  \n$$\n\\begin{align*}\nn_x &= 13 \\\\\nn_y &= 1 \\\\\nm &= 1025\n\\end{align*}\n$$\nNow we can proceed to making our logistic regression model and train our model  \nBut, we have one problem to deal with. How would we know if our model is doing good and if it is, how good is it?  \nThat is why from the 1025 examples we have, we'll keep some data aside and use it to test our model's prediction  \nLet's keep 80% of the data for training and 20% of the data for testing our model",
      "metadata": {}
    },
    {
      "cell_type": "code",
      "source": "# get index to split data in 80:20 ratio\nindex = int(0.8 * X.shape[1])\n\n# split the data\nX_train = X[:, :index]\nX_test = X[:, index:]\n\nY_train = Y[:index]\nY_test = Y[index:]",
      "metadata": {
        "trusted": true
      },
      "outputs": [],
      "execution_count": 9
    },
    {
      "cell_type": "markdown",
      "source": "Let's print shapes for our dataset",
      "metadata": {}
    },
    {
      "cell_type": "code",
      "source": "print(\"X_train shape\", X_train.shape)\nprint(\"Y_train shape\", Y_train.shape)\nprint(\"Number of training examples =\", Y_train.shape[0])\nprint(\"-\"*40)\nprint(\"X_test shape\", X_test.shape)\nprint(\"Y_test shape\", Y_test.shape)\nprint(\"Number of testing examples =\", Y_test.shape[0])",
      "metadata": {
        "trusted": true
      },
      "outputs": [
        {
          "name": "stdout",
          "output_type": "stream",
          "text": "X_train shape (13, 820)\nY_train shape (820,)\nNumber of training examples = 820\n----------------------------------------\nX_test shape (13, 205)\nY_test shape (205,)\nNumber of testing examples = 205\n"
        }
      ],
      "execution_count": 10
    },
    {
      "cell_type": "markdown",
      "source": "## Logistic Regression \n#### Forward Propagation\n$$\nZ = W^T X + b  \\\\\nA = sigmoid(X) \\\\\n$$\n#### Calculate Cost\n$$\nJ = -\\frac{1}{m}\\sum_{i=1}^{m}y^{(i)}\\log(a^{(i)})+(1-y^{(i)})\\log(1-a^{(i)})\n$$\n#### Backward Propagation\n$$ \\partial W = \\frac{\\partial J}{\\partial W} = \\frac{1}{m}X(A-Y)^T\\tag{7}$$\n$$ \\partial b = \\frac{\\partial J}{\\partial b} = \\frac{1}{m} \\sum_{i=1}^m (a^{(i)}-y^{(i)})\\tag{8}$$\n#### Parameter Updation\n$$ W = W - \\alpha \\text{ } \\partial W $$\n$$ b = b - \\alpha \\text{ } \\partial b $$",
      "metadata": {}
    },
    {
      "cell_type": "markdown",
      "source": "### 2. Initializing parameters\n**Assignment**: Complete the function for parameter initialization in the cell below. \n",
      "metadata": {}
    },
    {
      "cell_type": "code",
      "source": "def init_params(num_features):\n    \"\"\"\n    This function creates a vector of zeros of shape (num_features, 1) for w and initializes b to 0.\n\n    Returns:\n    W -- initialized vector of shape (num_features, 1)\n    b -- initialized scalar (corresponds to the bias)\n    \"\"\"\n    W = np.zeros((num_features, 1))\n    b = 0\n\n    return W, b\n",
      "metadata": {
        "trusted": true
      },
      "outputs": [],
      "execution_count": 12
    },
    {
      "cell_type": "markdown",
      "source": "#### **Helper Function**: Sigmoid\n**Assignment**: Complete the function for calculating sigmoid in the cell below. ",
      "metadata": {}
    },
    {
      "cell_type": "code",
      "source": "def sigmoid(x):\n    \"\"\"\n    Compute the sigmoid of x\n\n    Return:\n    s -- sigmoid(x)\n    \"\"\"\n    s = 1 / (1 + np.exp(-x))\n    return s\n",
      "metadata": {
        "trusted": true
      },
      "outputs": [],
      "execution_count": 13
    },
    {
      "cell_type": "markdown",
      "source": "### 3. Forward Propagation\n$$\nZ = W^T X + b  \\\\\nA = sigmoid(X) \\\\\n$$\n**Assignment**: Complete the function implementing forward propagation in the cell below. ",
      "metadata": {}
    },
    {
      "cell_type": "code",
      "source": "def forward_prop(w, b, X):\n    \"\"\"\n    Compute forward propagation\n\n    Return:\n    A -- activation\n    \"\"\"\n    Z = np.dot(w.T, X) + b\n    A = sigmoid(Z)\n\n    return A\n",
      "metadata": {
        "trusted": true
      },
      "outputs": [],
      "execution_count": 14
    },
    {
      "cell_type": "markdown",
      "source": "### 4. Calculate Cost\n$$\nJ = -\\frac{1}{m}\\sum_{i=1}^{m}y^{(i)}\\log(a^{(i)})+(1-y^{(i)})\\log(1-a^{(i)})\n$$\n**Assignment**: Complete the function to calculate cost in the cell below. ",
      "metadata": {}
    },
    {
      "cell_type": "code",
      "source": "def calculate_loss(A, Y):\n    \"\"\"\n    Calculate cross entropy loss between calculated values (A) and actual values (Y)\n\n    Return:\n    cost -- cost calculated\n    \"\"\"\n    # get number of examples\n    m = Y.shape[0]\n    \n    # calculate cost\n    cost = (-1 / m) * np.sum(Y * np.log(A + 1e-8) + (1 - Y) * np.log(1 - A + 1e-8))\n\n    # this will remove any useless dimensions from cost\n    cost = np.squeeze(cost)\n\n    return cost\n",
      "metadata": {
        "trusted": true
      },
      "outputs": [],
      "execution_count": 21
    },
    {
      "cell_type": "markdown",
      "source": "### 5. Backward Propagation\n$$ \\partial W = \\frac{\\partial J}{\\partial W} = \\frac{1}{m}X(A-Y)^T\\tag{7}$$\n$$ \\partial b = \\frac{\\partial J}{\\partial b} = \\frac{1}{m} \\sum_{i=1}^m (a^{(i)}-y^{(i)})\\tag{8}$$\n**Assignment**: Complete the function to compute gradients in the cell below. ",
      "metadata": {}
    },
    {
      "cell_type": "code",
      "source": "def backward_prop(A, X, Y):\n    \"\"\"\n    Calculate gradients dW and db\n\n    Return:\n    dW -- gradient of the loss with respect to w, thus same shape as w\n    db -- gradient of the loss with respect to b, thus same shape as b\n    \"\"\"\n    # get number of examples\n    m = X.shape[1]\n\n    # calculate gradients\n    dZ = A - Y                      # shape: (1, m)\n    dW = (1/m) * np.dot(X, dZ.T)   # shape: (num_features, 1)\n    db = (1/m) * np.sum(dZ)        # scalar\n\n    return dW, db\n",
      "metadata": {
        "trusted": true
      },
      "outputs": [],
      "execution_count": 22
    },
    {
      "cell_type": "markdown",
      "source": "### 6. Parameter Updation\n$$ W = W - \\alpha \\text{ } \\partial W $$\n$$ b = b - \\alpha \\text{ } \\partial b $$\n**Assignment**: Complete the function to update parameters in the cell below. ",
      "metadata": {}
    },
    {
      "cell_type": "code",
      "source": "def update_params(W, b, dW, db, learning_rate):\n    \"\"\"\n    Update params W and b from their gradients\n\n    Return:\n    W -- updated W\n    b -- updated b\n    \"\"\"\n    W = W - learning_rate * dW\n    b = b - learning_rate * db\n\n    return W, b\n",
      "metadata": {
        "trusted": true
      },
      "outputs": [],
      "execution_count": 23
    },
    {
      "cell_type": "markdown",
      "source": "As our model's forward propagation return value calculated from sigmoid function, it lies between 0 and 1  \nWe can say output should be 1 when A > 0.5 and 0 when A < 0.5  \nLet's implement a function that will do this for us in vectorized way\n### Predict ",
      "metadata": {}
    },
    {
      "cell_type": "code",
      "source": "def predict(W, b, X):\n  A = forward_prop(W, b, X)\n  Y_pred = (A>=0.5)*1.0\n  return Y_pred",
      "metadata": {
        "trusted": true
      },
      "outputs": [],
      "execution_count": 24
    },
    {
      "cell_type": "markdown",
      "source": "### Let's compile all these function to implement training loop for our model\nYou don't need to write any math here, just put all the functions you've written above in the right sequence",
      "metadata": {}
    },
    {
      "cell_type": "code",
      "source": "def train(X, Y, num_iterations=10000, learning_rate=0.0001, print_cost=True):\n    # initialize parameters\n    W = np.zeros((X.shape[0], 1))\n    b = 0\n\n    costs = []\n\n    for i in range(num_iterations):\n        # forward propagation\n        A = forward_prop(W, b, X)\n\n        # calculate cost\n        cost = calculate_loss(A, Y)\n\n        # backward propagation\n        dw, db = backward_prop(A, X, Y)\n\n        # parameter updation\n        W, b = update_params(W, b, dw, db, learning_rate)\n\n        # store cost every 100 iterations\n        if i % 100 == 0:\n            costs.append(cost)\n\n        # print cost\n        if print_cost and i % 100 == 0:\n            print(f\"Cost after {i+1} iteration : {cost}\")\n\n    return W, b, costs\n",
      "metadata": {
        "trusted": true
      },
      "outputs": [],
      "execution_count": 25
    },
    {
      "cell_type": "markdown",
      "source": "### Let the model train",
      "metadata": {}
    },
    {
      "cell_type": "code",
      "source": "W, b, costs = train(X_train, Y_train)",
      "metadata": {
        "trusted": true
      },
      "outputs": [
        {
          "name": "stdout",
          "output_type": "stream",
          "text": "Cost after 1 iteration : 0.6931471605599454\nCost after 101 iteration : 0.7723672736667179\nCost after 201 iteration : 0.6739935689578312\nCost after 301 iteration : 0.6417824718467297\nCost after 401 iteration : 0.628587442128276\nCost after 501 iteration : 0.6229415031132706\nCost after 601 iteration : 0.6201697230695079\nCost after 701 iteration : 0.6184454278495893\nCost after 801 iteration : 0.6171017170407714\nCost after 901 iteration : 0.6159022833821755\nCost after 1001 iteration : 0.6147637062715814\nCost after 1101 iteration : 0.6136560182087498\nCost after 1201 iteration : 0.612567877205917\nCost after 1301 iteration : 0.6114944652389327\nCost after 1401 iteration : 0.6104332973348795\nCost after 1501 iteration : 0.6093827712677746\nCost after 1601 iteration : 0.6083416636881731\nCost after 1701 iteration : 0.6073089520384596\nCost after 1801 iteration : 0.6062837481916575\nCost after 1901 iteration : 0.605265270278909\nCost after 2001 iteration : 0.6042528276113867\nCost after 2101 iteration : 0.6032458102334797\nCost after 2201 iteration : 0.6022436803131718\nCost after 2301 iteration : 0.6012459644809075\nCost after 2401 iteration : 0.600252246849972\nCost after 2501 iteration : 0.5992621626413613\nCost after 2601 iteration : 0.5982753923850189\nCost after 2701 iteration : 0.5972916566752345\nCost after 2801 iteration : 0.5963107114532835\nCost after 2901 iteration : 0.5953323437847693\nCost after 3001 iteration : 0.5943563680953635\nCost after 3101 iteration : 0.5933826228268597\nCost after 3201 iteration : 0.5924109674753476\nCost after 3301 iteration : 0.5914412799743433\nCost after 3401 iteration : 0.590473454387592\nCost after 3501 iteration : 0.5895073988785452\nCost after 3601 iteration : 0.5885430339260654\nCost after 3701 iteration : 0.5875802907585801\nCost after 3801 iteration : 0.5866191099814714\nCost after 3901 iteration : 0.5856594403750413\nCost after 4001 iteration : 0.5847012378427314\nCost after 4101 iteration : 0.5837444644914906\nCost after 4201 iteration : 0.5827890878281926\nCost after 4301 iteration : 0.5818350800578487\nCost after 4401 iteration : 0.5808824174710153\nCost after 4501 iteration : 0.5799310799092914\nCost after 4601 iteration : 0.5789810502991153\nCost after 4701 iteration : 0.5780323142452813\nCost after 4801 iteration : 0.5770848596766259\nCost after 4901 iteration : 0.5761386765372704\nCost after 5001 iteration : 0.5751937565176294\nCost after 5101 iteration : 0.574250092820119\nCost after 5201 iteration : 0.573307679955131\nCost after 5301 iteration : 0.5723665135634014\nCost after 5401 iteration : 0.5714265902613778\nCost after 5501 iteration : 0.5704879075066577\nCost after 5601 iteration : 0.5695504634808917\nCost after 5701 iteration : 0.5686142569879159\nCost after 5801 iteration : 0.5676792873651636\nCost after 5901 iteration : 0.5667455544066128\nCost after 6001 iteration : 0.5658130582958225\nCost after 6101 iteration : 0.5648817995477148\nCost after 6201 iteration : 0.5639517789580071\nCost after 6301 iteration : 0.5630229975592911\nCost after 6401 iteration : 0.5620954565828898\nCost after 6501 iteration : 0.5611691574257722\nCost after 6601 iteration : 0.5602441016218476\nCost after 6701 iteration : 0.5593202908170868\nCost after 6801 iteration : 0.5583977267479723\nCost after 6901 iteration : 0.5574764112228464\nCost after 7001 iteration : 0.5565563461057894\nCost after 7101 iteration : 0.5556375333026894\nCost after 7201 iteration : 0.5547199747492398\nCost after 7301 iteration : 0.5538036724005971\nCost after 7401 iteration : 0.5528886282225004\nCost after 7501 iteration : 0.551974844183664\nCost after 7601 iteration : 0.5510623222492705\nCost after 7701 iteration : 0.5501510643754386\nCost after 7801 iteration : 0.5492410725045388\nCost after 7901 iteration : 0.5483323485612381\nCost after 8001 iteration : 0.5474248944492113\nCost after 8101 iteration : 0.5465187120484059\nCost after 8201 iteration : 0.5456138032128172\nCost after 8301 iteration : 0.5447101697687037\nCost after 8401 iteration : 0.5438078135131975\nCost after 8501 iteration : 0.542906736213255\nCost after 8601 iteration : 0.5420069396049263\nCost after 8701 iteration : 0.5411084253929029\nCost after 8801 iteration : 0.5402111952503172\nCost after 8901 iteration : 0.539315250818775\nCost after 9001 iteration : 0.538420593708604\nCost after 9101 iteration : 0.5375272254992975\nCost after 9201 iteration : 0.5366351477401542\nCost after 9301 iteration : 0.5357443619510911\nCost after 9401 iteration : 0.5348548696236396\nCost after 9501 iteration : 0.5339666722221106\nCost after 9601 iteration : 0.5330797711849378\nCost after 9701 iteration : 0.5321941679261954\nCost after 9801 iteration : 0.5313098638373012\nCost after 9901 iteration : 0.5304268602889047\n"
        }
      ],
      "execution_count": 26
    },
    {
      "cell_type": "markdown",
      "source": "Let's plot costs to see how our model was converging",
      "metadata": {}
    },
    {
      "cell_type": "code",
      "source": "plt.plot(costs)\nplt.show()",
      "metadata": {
        "trusted": true
      },
      "outputs": [
        {
          "output_type": "display_data",
          "data": {
            "text/plain": "<Figure size 640x480 with 1 Axes>",
            "image/png": "[encoded data removed]"
          },
          "metadata": {}
        }
      ],
      "execution_count": 27
    },
    {
      "cell_type": "markdown",
      "source": "### 7. Model Evaluation\nLet's check accuracy on train and test sets",
      "metadata": {}
    },
    {
      "cell_type": "code",
      "source": "print(\"Train accuracy: {} %\".format(100 - np.mean(np.abs(predict(W, b, X_train) - Y_train)) * 100))\nprint(\"Test accuracy: {} %\".format(100 - np.mean(np.abs(predict(W, b, X_test) - Y_test)) * 100))",
      "metadata": {
        "trusted": true
      },
      "outputs": [
        {
          "name": "stdout",
          "output_type": "stream",
          "text": "Train accuracy: 73.29268292682926 %\nTest accuracy: 71.21951219512195 %\n"
        }
      ],
      "execution_count": 28
    },
    {
      "cell_type": "markdown",
      "source": "\nIncreasing the number of iterations can improve training accuracy, but there's a risk of overfitting. Overfitting occurs when the model learns to fit the training data too closely, capturing noise or irrelevant patterns that don't generalize well to unseen data. In such cases, while the training accuracy continues to increase, the test accuracy may plateau or even decrease.\n\nTo address overfitting, techniques like regularization and model complexity reduction are employed. Additionally, the transition to deep neural networks offers more sophisticated methods for improving accuracies, even in the presence of overfitting.",
      "metadata": {}
    }
  ]
}