{
  "metadata": {
    "kernelspec": {
      "name": "python",
      "display_name": "Python (Pyodide)",
      "language": "python"
    },
    "language_info": {
      "codemirror_mode": {
        "name": "python",
        "version": 3
      },
      "file_extension": ".py",
      "mimetype": "text/x-python",
      "name": "python",
      "nbconvert_exporter": "python",
      "pygments_lexer": "ipython3",
      "version": "3.8"
    }
  },
  "nbformat_minor": 4,
  "nbformat": 4,
  "cells": [
    {
      "cell_type": "markdown",
      "source": "# Introduction to Deep Learning\nThis assignment will help you assess your basic python knowledge you need to get started.",
      "metadata": {}
    },
    {
      "cell_type": "markdown",
      "source": "## Python Basics",
      "metadata": {}
    },
    {
      "cell_type": "markdown",
      "source": "### Variables\nA variable is created the moment you first assign a value to it  \nFor example,  \n```python\nx = 5\nname = \"John\"\n```",
      "metadata": {}
    },
    {
      "cell_type": "markdown",
      "source": "### Printing Statements\nThe `print()` function prints message on the terminal or standard output devices.  \nFor example  \n```python\n# Printing string\nprint(\"Hello World\")\n# Printing a variable name\nname = \"John\"\nprint(name)\n```",
      "metadata": {}
    },
    {
      "cell_type": "markdown",
      "source": "#### Exercise\nAssign your name to name variable and print it  ",
      "metadata": {}
    },
    {
      "cell_type": "code",
      "source": "name = \"Arinjay\"\nprint(name)",
      "metadata": {
        "trusted": true
      },
      "outputs": [
        {
          "name": "stdout",
          "output_type": "stream",
          "text": "Arinjay\n"
        }
      ],
      "execution_count": 1
    },
    {
      "cell_type": "markdown",
      "source": "### Conditional Statements\nConditional statements are used to execute different actions based on different conditions. They allow your programs to make decisions and choose different paths of execution.  \n\n```python\nif condition1:\n    # Code block to be executed if condition1 is true\nelif conditio2:\n    # Code block to be if condition2 is true\nelse:\n    # Code block to be executed if none of the conditions are true is false\n```",
      "metadata": {}
    },
    {
      "cell_type": "markdown",
      "source": "#### Exercise\nPrint if the the integer stored in varible `number` is even or odd.  \nHint: Use modulus operator",
      "metadata": {}
    },
    {
      "cell_type": "code",
      "source": "number = 5\nif number%2==0:\n  print(\"even\")\nelse:\n  print(\"odd\")",
      "metadata": {
        "trusted": true
      },
      "outputs": [
        {
          "name": "stdout",
          "output_type": "stream",
          "text": "odd\n"
        }
      ],
      "execution_count": 3
    },
    {
      "cell_type": "markdown",
      "source": "### Loop in python\nIn programming, loops are used to execute a block of code repeatedly. They are handy when you want to perform a task multiple times without writing the same code over and over again.  \n**For Loop in Python**\n```python\n# This will print \"Hello World\" five times\nfor i in range(5):\n    print(\"Hello World\")\n```",
      "metadata": {}
    },
    {
      "cell_type": "markdown",
      "source": "#### Exercise\nPrint numbers from 1 to 10",
      "metadata": {}
    },
    {
      "cell_type": "code",
      "source": "for x in range(10):\n  print(x+1)",
      "metadata": {
        "trusted": true
      },
      "outputs": [
        {
          "name": "stdout",
          "output_type": "stream",
          "text": "1\n2\n3\n4\n5\n6\n7\n8\n9\n10\n"
        }
      ],
      "execution_count": 5
    },
    {
      "cell_type": "markdown",
      "source": "### Lists in Python\nLists are a versatile data structure in Python used to store collections of items. They allow you to store and manipulate multiple pieces of data in a single variable.\n```python\nfruits = ['apple', 'banana', 'orange']\n```",
      "metadata": {}
    },
    {
      "cell_type": "markdown",
      "source": "#### Exercise\nComplete the given code to print sum of all numbers in the given list",
      "metadata": {}
    },
    {
      "cell_type": "code",
      "source": "numbers = [2, 4, 7, 4, 8, 2, 7]\n# Initialise sum to zero and keep adding numbers from the list to sum\nsum = 0 \nfor number in numbers:\n  # Write your code here \n    sum = sum + number\n\nprint(sum)",
      "metadata": {
        "trusted": true
      },
      "outputs": [
        {
          "name": "stdout",
          "output_type": "stream",
          "text": "34\n"
        }
      ],
      "execution_count": 8
    },
    {
      "cell_type": "markdown",
      "source": "### Functions\nFunctions are a way to organize your code into reusable blocks. They allow you to break down your program into smaller, manageable pieces, making your code more modular and easier to understand.\n```python\ndef function_name(parameters):\n    # Code block to be executed\n    return something\n```",
      "metadata": {}
    },
    {
      "cell_type": "markdown",
      "source": "#### Exercise\nWrite function to return output for this function for a given `x`  \n$$ y = f(x) = x^3 - 5x^2 + 6x + 2 $$",
      "metadata": {}
    },
    {
      "cell_type": "code",
      "source": "def calculate_function(x):\n  y = None\n  return y\n\n# This should print value for y=f(5)\nprint(calculate_function(5))\n",
      "metadata": {},
      "outputs": [],
      "execution_count": null
    },
    {
      "cell_type": "markdown",
      "source": "If you were able to understand and write these basic code blocks, you are good to go and learn about a very powerful python library \"NumPy\" which helps us deal with multi-dimension arrays",
      "metadata": {}
    }
  ]
}