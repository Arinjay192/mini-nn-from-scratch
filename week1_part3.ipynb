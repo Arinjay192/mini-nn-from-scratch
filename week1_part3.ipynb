{
  "metadata": {
    "kernelspec": {
      "name": "python",
      "display_name": "Python (Pyodide)",
      "language": "python"
    },
    "language_info": {
      "codemirror_mode": {
        "name": "python",
        "version": 3
      },
      "file_extension": ".py",
      "mimetype": "text/x-python",
      "name": "python",
      "nbconvert_exporter": "python",
      "pygments_lexer": "ipython3",
      "version": "3.8"
    }
  },
  "nbformat_minor": 4,
  "nbformat": 4,
  "cells": [
    {
      "cell_type": "markdown",
      "source": "# Introduction to Deep Learning\nThis assignment will give you brief introduction to NumPy. NumPy is a fundamental package for scientific computing in Python. It provides support for arrays, matrices, and mathematical functions, making it essential for various fields including data science, machine learning, and engineering.",
      "metadata": {}
    },
    {
      "cell_type": "markdown",
      "source": "Sigmoid function is definded as\n$$\nsigmoid(x) = \\frac{1}{1 + e^{-x}}\n$$\nLet's start by writing a function in python that will compute this for us ",
      "metadata": {}
    },
    {
      "cell_type": "markdown",
      "source": "#### Exercise\nComplete the sigmoid function given below using basic python math library  \nHint: use `math.exp()` for exponential function or `math.e` for value of e = 2.718281828459045…",
      "metadata": {}
    },
    {
      "cell_type": "code",
      "source": "import math\n\ndef basic_sigmoid(x):\n    # This function should return value for sigmoid(x)\n    s = 1 / (1 + math.exp(-x))\n    return s\n\nprint(basic_sigmoid(2))",
      "metadata": {
        "trusted": true
      },
      "outputs": [
        {
          "name": "stdout",
          "output_type": "stream",
          "text": "0.8807970779778823\n"
        }
      ],
      "execution_count": 3
    },
    {
      "cell_type": "code",
      "source": "# sigmoid(2) is approx 0.88079\nprint(basic_sigmoid(2))",
      "metadata": {
        "trusted": true
      },
      "outputs": [
        {
          "name": "stdout",
          "output_type": "stream",
          "text": "0.8807970779778823\n"
        }
      ],
      "execution_count": 4
    },
    {
      "cell_type": "markdown",
      "source": "## Numpy\nLet's start by importing NumPy  \nHere we are importing numpy as np so we won't have to write numpy everytime and this np notation is very standard and used widely  \nRun the code below to import numpy ",
      "metadata": {}
    },
    {
      "cell_type": "code",
      "source": "import numpy as np",
      "metadata": {
        "trusted": true
      },
      "outputs": [],
      "execution_count": 5
    },
    {
      "cell_type": "markdown",
      "source": "### NumPy Arrays\nWe can initialize a numpy array by `np.array()`  \nRun the code below to get a numpy array from a python list",
      "metadata": {}
    },
    {
      "cell_type": "code",
      "source": "# initialize a python list\npython_list = [1, 2, 3, 4, 5, 6]\n# initiatlize a numpy array\nnumpy_array = np.array([1, 2, 3, 4, 5, 6])\n\n# let's print both of them\nprint(python_list)\nprint(numpy_array)\n",
      "metadata": {
        "trusted": true
      },
      "outputs": [
        {
          "name": "stdout",
          "output_type": "stream",
          "text": "[1, 2, 3, 4, 5, 6]\n[1 2 3 4 5 6]\n"
        }
      ],
      "execution_count": 6
    },
    {
      "cell_type": "markdown",
      "source": "#### Exercise\nLet's say we want to square each and every element of our python list, we write a loop to do so  \nComplete the code below to do so",
      "metadata": {}
    },
    {
      "cell_type": "code",
      "source": "python_list = [1, 2, 3, 4, 5]  \nsquared_list = []\n\nfor number in python_list:\n    squared_list.append(number ** 2)\n\nprint(squared_list)",
      "metadata": {
        "trusted": true
      },
      "outputs": [
        {
          "name": "stdout",
          "output_type": "stream",
          "text": "[1, 4, 9, 16, 25]\n"
        }
      ],
      "execution_count": 7
    },
    {
      "cell_type": "markdown",
      "source": "Some of you might want to do this instead",
      "metadata": {}
    },
    {
      "cell_type": "code",
      "source": "squared_list = [x**2 for x in python_list]\nprint(squared_list)",
      "metadata": {
        "trusted": true
      },
      "outputs": [
        {
          "name": "stdout",
          "output_type": "stream",
          "text": "[1, 4, 9, 16, 25]\n"
        }
      ],
      "execution_count": 8
    },
    {
      "cell_type": "markdown",
      "source": "But working with basic list in python, we need to write explicit for loops for even such basic stuff  \nIf we want to do the same for NumPy array, we can just write",
      "metadata": {}
    },
    {
      "cell_type": "code",
      "source": "squared_array = numpy_array**2\nprint(squared_array)",
      "metadata": {
        "trusted": true
      },
      "outputs": [
        {
          "name": "stdout",
          "output_type": "stream",
          "text": "[ 1  4  9 16 25 36]\n"
        }
      ],
      "execution_count": 9
    },
    {
      "cell_type": "markdown",
      "source": "This is just the starting of the magic NumPy can do for you",
      "metadata": {}
    },
    {
      "cell_type": "markdown",
      "source": "#### Exercise\nLet's code sigmoid function using numpy\n$$\nsigmoid(x) = \\frac{1}{1 + e^{-x}}\n$$\nHint: use `np.exp()` for exponential function",
      "metadata": {}
    },
    {
      "cell_type": "code",
      "source": "import numpy as np\n\ndef numpy_sigmoid(x):\n    s = 1 / (1 + np.exp(-x))\n    return s",
      "metadata": {
        "trusted": true
      },
      "outputs": [],
      "execution_count": 10
    },
    {
      "cell_type": "code",
      "source": "# sigmoid(2) is approx 0.88079\nprint(numpy_sigmoid(2))",
      "metadata": {
        "trusted": true
      },
      "outputs": [
        {
          "name": "stdout",
          "output_type": "stream",
          "text": "0.8807970779778823\n"
        }
      ],
      "execution_count": 11
    },
    {
      "cell_type": "markdown",
      "source": "Now as you have coded sigmoid function using basic math library and numpy library, what if we want to get sigmoid of each element of a list",
      "metadata": {}
    },
    {
      "cell_type": "markdown",
      "source": "For the function we wrote using basic math library, we need to write a for loop to get this done  \nRun the code below",
      "metadata": {}
    },
    {
      "cell_type": "code",
      "source": "python_list = [1, 2, 3, 4, 5, 6]\n\nsigmoid_list = [basic_sigmoid(x) for x in python_list]\n\nprint(sigmoid_list)",
      "metadata": {
        "trusted": true
      },
      "outputs": [
        {
          "name": "stdout",
          "output_type": "stream",
          "text": "[0.7310585786300049, 0.8807970779778823, 0.9525741268224334, 0.9820137900379085, 0.9933071490757153, 0.9975273768433653]\n"
        }
      ],
      "execution_count": 12
    },
    {
      "cell_type": "markdown",
      "source": "But numpy makes it easy for you",
      "metadata": {}
    },
    {
      "cell_type": "code",
      "source": "numpy_array = np.array([1, 2, 3, 4, 5, 6])\n\nsigmoid_array = numpy_sigmoid(numpy_array)\n\nprint(sigmoid_array)",
      "metadata": {
        "trusted": true
      },
      "outputs": [
        {
          "name": "stdout",
          "output_type": "stream",
          "text": "[0.73105858 0.88079708 0.95257413 0.98201379 0.99330715 0.99752738]\n"
        }
      ],
      "execution_count": 13
    },
    {
      "cell_type": "markdown",
      "source": "Writing a for loop might not seem very tough for now but just imagine you want to appy same operation or function on easy element of a 3D array (eg. an image) or a 4D array (eg. group of images)  \nbut for any n-dimentional numpy array you can just write your own coded `numpy_sigmoid(array)` function  ",
      "metadata": {}
    },
    {
      "cell_type": "markdown",
      "source": "## Broadcasting\nBroadcasting is a powerful feature of NumPy that allows arithmetic operations to be performed on arrays of different shapes. This eliminates the need for explicit looping over array elements, making code more concise and efficient.  \n### Broadcasting Rules\nNumPy follows strict rules to determine whether two arrays are compatible for broadcasting:\n\n1. If the arrays do not have the same number of dimensions, NumPy will pad the smaller shape with ones on its leading (left) side.\n2. If the shape of the arrays does not match in any dimension, NumPy will stretch the dimension with size 1 to match the other shape.  \n\nLet's see this in action, just run the blocks below and learn by seeing the result",
      "metadata": {}
    },
    {
      "cell_type": "code",
      "source": "# Create an array\narr = np.array([1, 2, 3, 4])\n\n# Add a scalar value to the array\nresult = arr + 10\n\nprint(\"Array:\", arr)\nprint(\"Result:\", result)",
      "metadata": {
        "trusted": true
      },
      "outputs": [
        {
          "name": "stdout",
          "output_type": "stream",
          "text": "Array: [1 2 3 4]\nResult: [11 12 13 14]\n"
        }
      ],
      "execution_count": 14
    },
    {
      "cell_type": "markdown",
      "source": "Let's see another example",
      "metadata": {}
    },
    {
      "cell_type": "code",
      "source": "# Create two arrays with different shapes\narr1 = np.array([[1, 2, 3], [4, 5, 6]])\narr2 = np.array([10, 20, 30])\n\n# Add the arrays\nresult = arr1 + arr2\n\nprint(\"Array 1:\")\nprint(arr1)\nprint(\"Array 2:\")\nprint(arr2)\nprint(\"Result:\")\nprint(result)",
      "metadata": {
        "trusted": true
      },
      "outputs": [
        {
          "name": "stdout",
          "output_type": "stream",
          "text": "Array 1:\n[[1 2 3]\n [4 5 6]]\nArray 2:\n[10 20 30]\nResult:\n[[11 22 33]\n [14 25 36]]\n"
        }
      ],
      "execution_count": 15
    },
    {
      "cell_type": "markdown",
      "source": "#### Exercise\nNormalizing nd-array  \nComplete the code below to return array with it's values normalized without using any explicit for loop and using broadcasting functionality\n$$\nnormalized\\_value = \\frac{{ value - \\text{{min\\_val}}}}{{\\text{{max\\_val}} - \\text{{min\\_val}}}}\n$$\nWith broadcasting in action we can write this as \n$$\nnormalized\\_array = \\frac{{ array - \\text{{min\\_val}}}}{{\\text{{max\\_val}} - \\text{{min\\_val}}}}\n$$\nFor each element we want to replace it with this new value  \nHint: use `np.min()` and `np.max()` ",
      "metadata": {}
    },
    {
      "cell_type": "code",
      "source": "import numpy as np\n\ndef normalize_array(arr):\n    \"\"\"Normalize an n-dimensional array using broadcasting.\"\"\"\n    min_val = np.min(arr)\n    max_val = np.max(arr)\n    numerator = arr - min_val\n    denominator = max_val - min_val\n    normalized_array = numerator / denominator\n    return normalized_array",
      "metadata": {
        "trusted": true
      },
      "outputs": [],
      "execution_count": 16
    },
    {
      "cell_type": "code",
      "source": "# Create a sample 2D array\nsample_array = np.array([[1, 2, 3],\n                         [4, 5, 6],\n                         [7, 8, 9]])\n\n# Normalize the array\nnormalized_array = normalize_array(sample_array)\nprint(\"Original Array:\")\nprint(sample_array)\nprint(\"\\nNormalized Array:\")\nprint(normalized_array)",
      "metadata": {
        "trusted": true
      },
      "outputs": [
        {
          "name": "stdout",
          "output_type": "stream",
          "text": "Original Array:\n[[1 2 3]\n [4 5 6]\n [7 8 9]]\n\nNormalized Array:\n[[0.    0.125 0.25 ]\n [0.375 0.5   0.625]\n [0.75  0.875 1.   ]]\n"
        }
      ],
      "execution_count": 17
    },
    {
      "cell_type": "markdown",
      "source": "## Reshaping arrays\nReshaping arrays is a crucial operation in NumPy that allows you to change the shape or dimensions of an array without changing its data. This operation is essential for various tasks in data manipulation and analysis.",
      "metadata": {}
    },
    {
      "cell_type": "code",
      "source": "arr = np.array([1, 2, 3, 4, 5, 6])\nreshaped_arr = arr.reshape(2, 3)\n\nprint(\"Original Array:\")\nprint(arr)\nprint(\"Reshaped Array:\")\nprint(reshaped_arr)",
      "metadata": {
        "trusted": true
      },
      "outputs": [
        {
          "name": "stdout",
          "output_type": "stream",
          "text": "Original Array:\n[1 2 3 4 5 6]\nReshaped Array:\n[[1 2 3]\n [4 5 6]]\n"
        }
      ],
      "execution_count": 18
    },
    {
      "cell_type": "markdown",
      "source": "Let's see one more example",
      "metadata": {}
    },
    {
      "cell_type": "code",
      "source": "# this will create a 1D array with values from 1 to 16\narr = np.arange(1, 17)\nprint(\"Original Array\", arr)\n\n# let's reshape this array in shape (4, 4) and see the results\nreshaped_arr = arr.reshape(4, 4)\nprint(\"Reshaping with arguments (4,4)\", reshaped_arr)\n\n# you can also set the one of the arguments in reshape to -1\n# and python will handle the value for you\nreshaped_arr = arr.reshape(4, -1)\nprint(\"Reshaping with arguments (4,-1)\", reshaped_arr)",
      "metadata": {
        "trusted": true
      },
      "outputs": [
        {
          "name": "stdout",
          "output_type": "stream",
          "text": "Original Array [ 1  2  3  4  5  6  7  8  9 10 11 12 13 14 15 16]\nReshaping with arguments (4,4) [[ 1  2  3  4]\n [ 5  6  7  8]\n [ 9 10 11 12]\n [13 14 15 16]]\nReshaping with arguments (4,-1) [[ 1  2  3  4]\n [ 5  6  7  8]\n [ 9 10 11 12]\n [13 14 15 16]]\n"
        }
      ],
      "execution_count": 19
    },
    {
      "cell_type": "markdown",
      "source": "You'll work more with reshaping arrays in next assignments where we will be reshaping iamges (3D arrays) into 1D arrays for our convenience.",
      "metadata": {}
    }
  ]
}